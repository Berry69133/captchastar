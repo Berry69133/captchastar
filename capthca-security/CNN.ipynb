{
 "cells": [
  {
   "cell_type": "code",
   "execution_count": 1,
   "id": "4d66f4c0",
   "metadata": {},
   "outputs": [],
   "source": [
    "import matplotlib.pyplot as plt\n",
    "import numpy as np\n",
    "import pandas as pd\n",
    "from PIL import Image\n",
    "import PIL.ImageOps    \n",
    "\n",
    "import torchvision\n",
    "import torchvision.datasets as datasets\n",
    "import torchvision.transforms as transforms\n",
    "from torch.utils.data import DataLoader, Dataset\n",
    "import torchvision.utils\n",
    "import torch\n",
    "from torch.autograd import Variable\n",
    "import torch.nn as nn\n",
    "from torch import optim\n",
    "import torch.nn.functional as F\n",
    "from torchvision.transforms import InterpolationMode\n",
    "\n",
    "import time\n",
    "import random\n",
    "from tqdm.notebook import tqdm\n",
    "\n",
    "import matplotlib.pyplot as plt\n",
    "import cv2"
   ]
  },
  {
   "cell_type": "code",
   "execution_count": 2,
   "id": "93c6cfed",
   "metadata": {},
   "outputs": [],
   "source": [
    "PATH = \"/Users/denniscimorosi/Desktop/Tesi/Logos/\"\n",
    "states_path = PATH + \"states.csv\"\n",
    "union_path = PATH + \"union/\""
   ]
  },
  {
   "cell_type": "code",
   "execution_count": 3,
   "id": "8c48c3c6",
   "metadata": {},
   "outputs": [],
   "source": [
    "states_df = pd.read_csv(states_path)"
   ]
  },
  {
   "cell_type": "code",
   "execution_count": 4,
   "id": "641bbb6d",
   "metadata": {},
   "outputs": [],
   "source": [
    "batch_size = 32\n",
    "lr = 0.001\n",
    "epochs = 10"
   ]
  },
  {
   "cell_type": "code",
   "execution_count": 5,
   "id": "39f56d74",
   "metadata": {},
   "outputs": [],
   "source": [
    "class LogoStates(Dataset):\n",
    "    def __init__(self, states_df, transform=None,name=''):\n",
    "        self.states_df = states_df\n",
    "        \n",
    "        name = name\n",
    "        if name != '':\n",
    "            self.states_df = self.states_df[self.states_df[\"captcha\"].str.contains(name)]\n",
    "            \n",
    "        self.transform = transform\n",
    "        self.to_pil = transforms.ToPILImage()       \n",
    "        \n",
    "    def __len__(self):\n",
    "        return len(self.states_df)\n",
    "    \n",
    "    def __getitem__(self, item):\n",
    "        row = self.states_df.iloc[item]\n",
    "        captcha, label = row\n",
    "        \n",
    "        captcha_img = Image.open(union_path + captcha)\n",
    "        captcha_img = np.asarray(captcha_img)\n",
    "        captcha_img = cv2.resize(captcha_img, (28,28), interpolation=cv2.INTER_LINEAR)\n",
    "        captcha_img = PIL.Image.fromarray(captcha_img)\n",
    "        \n",
    "        # 0 se sono uguali 1 se sono diverse (invertito)\n",
    "        label = 1 if label else 0\n",
    "        \n",
    "        if self.transform:\n",
    "            captcha_img = self.transform(captcha_img)\n",
    "\n",
    "        return captcha_img, label"
   ]
  },
  {
   "cell_type": "code",
   "execution_count": 6,
   "id": "40abf130",
   "metadata": {},
   "outputs": [
    {
     "data": {
      "text/plain": [
       "(170, 30, 3800)"
      ]
     },
     "execution_count": 6,
     "metadata": {},
     "output_type": "execute_result"
    }
   ],
   "source": [
    "# Unseen: estraggo tutti i nomi, shuffle e prendo circa il 15%\n",
    "n_unseen = 3800\n",
    "unseen_df = states_df.sort_values(['captcha'])[:n_unseen]\n",
    "states_df = states_df.sort_values(['captcha'])[n_unseen:]\n",
    "\n",
    "percentage = round(len(states_df)*15/100)\n",
    "\n",
    "\n",
    "\n",
    "states_df = states_df.sample(frac=1).reset_index(drop=True)\n",
    "\n",
    "train_df = states_df[percentage:]\n",
    "test_df = states_df[:percentage]\n",
    "\n",
    "\n",
    "len(train_df), len(test_df), len(unseen_df)"
   ]
  },
  {
   "cell_type": "code",
   "execution_count": 7,
   "id": "761bc377",
   "metadata": {},
   "outputs": [],
   "source": [
    "transform=transforms.Compose([\n",
    "                    transforms.Grayscale(),\n",
    "                    transforms.ToTensor()\n",
    "                 ])\n",
    "train_ds = LogoStates(train_df, transform,name='')\n",
    "test_ds = LogoStates(test_df, transform)\n",
    "unseen_ds = LogoStates(unseen_df, transform)"
   ]
  },
  {
   "cell_type": "code",
   "execution_count": 8,
   "id": "9bbf5a60",
   "metadata": {},
   "outputs": [],
   "source": [
    "train_loader = DataLoader(train_ds, batch_size=batch_size, shuffle=True, \n",
    "                    multiprocessing_context=\"fork\", num_workers=8)\n",
    "\n",
    "test_loader = DataLoader(test_ds, batch_size=batch_size, shuffle=True,\n",
    "                    multiprocessing_context=\"fork\", num_workers=8)\n",
    "\n",
    "unseen_loader = DataLoader(unseen_ds, batch_size=3600, shuffle=True,\n",
    "                    multiprocessing_context=\"fork\", num_workers=8)"
   ]
  },
  {
   "cell_type": "code",
   "execution_count": 9,
   "id": "ce16c1e3",
   "metadata": {},
   "outputs": [],
   "source": [
    "# Creating some helper functions\n",
    "def imshow(img, text=None):\n",
    "    npimg = img.numpy()\n",
    "    plt.axis(\"off\")\n",
    "    if text:\n",
    "        plt.text(75, 8, text, style='italic',fontweight='bold',\n",
    "            bbox={'facecolor':'white', 'alpha':0.8, 'pad':10})\n",
    "        \n",
    "    plt.imshow(np.transpose(npimg, (1, 2, 0)))\n",
    "    plt.show()    \n",
    "\n",
    "def show_plot(iteration,loss):\n",
    "    plt.plot(iteration,loss)\n",
    "    plt.show()"
   ]
  },
  {
   "cell_type": "code",
   "execution_count": 10,
   "id": "655be935",
   "metadata": {},
   "outputs": [],
   "source": [
    "class CNN(nn.Module):\n",
    "    def __init__(self):\n",
    "        super(CNN, self).__init__()\n",
    "        self.conv1 = nn.Sequential(         \n",
    "            nn.Conv2d(\n",
    "                in_channels=1,              \n",
    "                out_channels=16,            \n",
    "                kernel_size=5,              \n",
    "                stride=1,                   \n",
    "                padding=2,                  \n",
    "            ),                              \n",
    "            nn.ReLU(),                      \n",
    "            nn.MaxPool2d(kernel_size=2),    \n",
    "        )\n",
    "        self.conv2 = nn.Sequential(         \n",
    "            nn.Conv2d(16, 32, 5, 1, 2),     \n",
    "            nn.ReLU(),                      \n",
    "            nn.MaxPool2d(2),                \n",
    "        )\n",
    "        # fully connected layer, output 10 classes\n",
    "        self.out = nn.Linear(32 * 7 * 7, 2)\n",
    "        \n",
    "    def forward(self, x):\n",
    "        x = self.conv1(x)\n",
    "        print(x.shape)\n",
    "        x = self.conv2(x)\n",
    "        # flatten the output of conv2 to (batch_size, 32 * 7 * 7)\n",
    "        x = x.view(x.size(0), -1)       \n",
    "        output = self.out(x)\n",
    "        return output"
   ]
  },
  {
   "cell_type": "code",
   "execution_count": 11,
   "id": "37618f2e",
   "metadata": {},
   "outputs": [],
   "source": [
    "net = CNN()\n",
    "criterion = nn.CrossEntropyLoss()   \n",
    "optimizer = optim.Adam(net.parameters(), lr = lr )"
   ]
  },
  {
   "cell_type": "code",
   "execution_count": 12,
   "id": "dacfff1e",
   "metadata": {},
   "outputs": [
    {
     "data": {
      "application/vnd.jupyter.widget-view+json": {
       "model_id": "cc4c9aa26d4e46db8ac0ef0a0f08800e",
       "version_major": 2,
       "version_minor": 0
      },
      "text/plain": [
       "Epochs:   0%|          | 0/10 [00:00<?, ?it/s]"
      ]
     },
     "metadata": {},
     "output_type": "display_data"
    },
    {
     "data": {
      "application/vnd.jupyter.widget-view+json": {
       "model_id": "",
       "version_major": 2,
       "version_minor": 0
      },
      "text/plain": [
       "Training:   0%|          | 0/6 [00:00<?, ?it/s]"
      ]
     },
     "metadata": {},
     "output_type": "display_data"
    },
    {
     "name": "stdout",
     "output_type": "stream",
     "text": [
      "torch.Size([32, 16, 14, 14])\n",
      "Epoch number 0\n",
      " Current loss 0.6856688261032104\n",
      "\n",
      "torch.Size([32, 16, 14, 14])\n",
      "torch.Size([32, 16, 14, 14])\n",
      "torch.Size([32, 16, 14, 14])\n",
      "torch.Size([32, 16, 14, 14])\n",
      "torch.Size([10, 16, 14, 14])\n"
     ]
    },
    {
     "data": {
      "application/vnd.jupyter.widget-view+json": {
       "model_id": "",
       "version_major": 2,
       "version_minor": 0
      },
      "text/plain": [
       "Training:   0%|          | 0/6 [00:00<?, ?it/s]"
      ]
     },
     "metadata": {},
     "output_type": "display_data"
    },
    {
     "name": "stdout",
     "output_type": "stream",
     "text": [
      "torch.Size([32, 16, 14, 14])\n",
      "Epoch number 1\n",
      " Current loss 0.6443893313407898\n",
      "\n",
      "torch.Size([32, 16, 14, 14])\n",
      "torch.Size([32, 16, 14, 14])\n",
      "torch.Size([32, 16, 14, 14])\n",
      "torch.Size([32, 16, 14, 14])\n",
      "torch.Size([10, 16, 14, 14])\n"
     ]
    },
    {
     "data": {
      "application/vnd.jupyter.widget-view+json": {
       "model_id": "",
       "version_major": 2,
       "version_minor": 0
      },
      "text/plain": [
       "Training:   0%|          | 0/6 [00:00<?, ?it/s]"
      ]
     },
     "metadata": {},
     "output_type": "display_data"
    },
    {
     "name": "stdout",
     "output_type": "stream",
     "text": [
      "torch.Size([32, 16, 14, 14])\n",
      "Epoch number 2\n",
      " Current loss 0.6196069121360779\n",
      "\n",
      "torch.Size([32, 16, 14, 14])\n",
      "torch.Size([32, 16, 14, 14])\n",
      "torch.Size([32, 16, 14, 14])\n",
      "torch.Size([32, 16, 14, 14])\n",
      "torch.Size([10, 16, 14, 14])\n"
     ]
    },
    {
     "data": {
      "application/vnd.jupyter.widget-view+json": {
       "model_id": "",
       "version_major": 2,
       "version_minor": 0
      },
      "text/plain": [
       "Training:   0%|          | 0/6 [00:00<?, ?it/s]"
      ]
     },
     "metadata": {},
     "output_type": "display_data"
    },
    {
     "name": "stdout",
     "output_type": "stream",
     "text": [
      "torch.Size([32, 16, 14, 14])\n",
      "Epoch number 3\n",
      " Current loss 0.5533661246299744\n",
      "\n",
      "torch.Size([32, 16, 14, 14])\n",
      "torch.Size([32, 16, 14, 14])\n",
      "torch.Size([32, 16, 14, 14])\n",
      "torch.Size([32, 16, 14, 14])\n",
      "torch.Size([10, 16, 14, 14])\n"
     ]
    },
    {
     "data": {
      "application/vnd.jupyter.widget-view+json": {
       "model_id": "",
       "version_major": 2,
       "version_minor": 0
      },
      "text/plain": [
       "Training:   0%|          | 0/6 [00:00<?, ?it/s]"
      ]
     },
     "metadata": {},
     "output_type": "display_data"
    },
    {
     "name": "stdout",
     "output_type": "stream",
     "text": [
      "torch.Size([32, 16, 14, 14])\n",
      "Epoch number 4\n",
      " Current loss 0.5192309021949768\n",
      "\n",
      "torch.Size([32, 16, 14, 14])\n",
      "torch.Size([32, 16, 14, 14])\n",
      "torch.Size([32, 16, 14, 14])\n",
      "torch.Size([32, 16, 14, 14])\n",
      "torch.Size([10, 16, 14, 14])\n"
     ]
    },
    {
     "data": {
      "application/vnd.jupyter.widget-view+json": {
       "model_id": "",
       "version_major": 2,
       "version_minor": 0
      },
      "text/plain": [
       "Training:   0%|          | 0/6 [00:00<?, ?it/s]"
      ]
     },
     "metadata": {},
     "output_type": "display_data"
    },
    {
     "name": "stdout",
     "output_type": "stream",
     "text": [
      "torch.Size([32, 16, 14, 14])\n",
      "Epoch number 5\n",
      " Current loss 0.5728322863578796\n",
      "\n",
      "torch.Size([32, 16, 14, 14])\n",
      "torch.Size([32, 16, 14, 14])\n",
      "torch.Size([32, 16, 14, 14])\n",
      "torch.Size([32, 16, 14, 14])\n",
      "torch.Size([10, 16, 14, 14])\n"
     ]
    },
    {
     "data": {
      "application/vnd.jupyter.widget-view+json": {
       "model_id": "",
       "version_major": 2,
       "version_minor": 0
      },
      "text/plain": [
       "Training:   0%|          | 0/6 [00:00<?, ?it/s]"
      ]
     },
     "metadata": {},
     "output_type": "display_data"
    },
    {
     "name": "stdout",
     "output_type": "stream",
     "text": [
      "torch.Size([32, 16, 14, 14])\n",
      "Epoch number 6\n",
      " Current loss 0.46348005533218384\n",
      "\n",
      "torch.Size([32, 16, 14, 14])\n",
      "torch.Size([32, 16, 14, 14])\n",
      "torch.Size([32, 16, 14, 14])\n",
      "torch.Size([32, 16, 14, 14])\n",
      "torch.Size([10, 16, 14, 14])\n"
     ]
    },
    {
     "data": {
      "application/vnd.jupyter.widget-view+json": {
       "model_id": "",
       "version_major": 2,
       "version_minor": 0
      },
      "text/plain": [
       "Training:   0%|          | 0/6 [00:00<?, ?it/s]"
      ]
     },
     "metadata": {},
     "output_type": "display_data"
    },
    {
     "name": "stdout",
     "output_type": "stream",
     "text": [
      "torch.Size([32, 16, 14, 14])\n",
      "Epoch number 7\n",
      " Current loss 0.39241698384284973\n",
      "\n",
      "torch.Size([32, 16, 14, 14])\n",
      "torch.Size([32, 16, 14, 14])\n",
      "torch.Size([32, 16, 14, 14])\n",
      "torch.Size([32, 16, 14, 14])\n",
      "torch.Size([10, 16, 14, 14])\n"
     ]
    },
    {
     "data": {
      "application/vnd.jupyter.widget-view+json": {
       "model_id": "",
       "version_major": 2,
       "version_minor": 0
      },
      "text/plain": [
       "Training:   0%|          | 0/6 [00:00<?, ?it/s]"
      ]
     },
     "metadata": {},
     "output_type": "display_data"
    },
    {
     "name": "stdout",
     "output_type": "stream",
     "text": [
      "torch.Size([32, 16, 14, 14])\n",
      "Epoch number 8\n",
      " Current loss 0.29793408513069153\n",
      "\n",
      "torch.Size([32, 16, 14, 14])\n",
      "torch.Size([32, 16, 14, 14])\n",
      "torch.Size([32, 16, 14, 14])\n",
      "torch.Size([32, 16, 14, 14])\n",
      "torch.Size([10, 16, 14, 14])\n"
     ]
    },
    {
     "data": {
      "application/vnd.jupyter.widget-view+json": {
       "model_id": "",
       "version_major": 2,
       "version_minor": 0
      },
      "text/plain": [
       "Training:   0%|          | 0/6 [00:00<?, ?it/s]"
      ]
     },
     "metadata": {},
     "output_type": "display_data"
    },
    {
     "name": "stdout",
     "output_type": "stream",
     "text": [
      "torch.Size([32, 16, 14, 14])\n",
      "Epoch number 9\n",
      " Current loss 0.2525580823421478\n",
      "\n",
      "torch.Size([32, 16, 14, 14])\n",
      "torch.Size([32, 16, 14, 14])\n",
      "torch.Size([32, 16, 14, 14])\n",
      "torch.Size([32, 16, 14, 14])\n",
      "torch.Size([10, 16, 14, 14])\n"
     ]
    },
    {
     "data": {
      "image/png": "[encoded data removed]",
      "text/plain": [
       "<Figure size 432x288 with 1 Axes>"
      ]
     },
     "metadata": {
      "needs_background": "light"
     },
     "output_type": "display_data"
    }
   ],
   "source": [
    "counter = []\n",
    "loss_history = [] \n",
    "iteration_number= 0\n",
    "\n",
    "# Iterate throught the epochs\n",
    "for epoch in tqdm(range(epochs), desc=\"Epochs\"):\n",
    "\n",
    "    # Iterate over batches\n",
    "    for i, (img, label) in enumerate(tqdm(train_loader, desc=\"Training\", leave=False)):\n",
    "\n",
    "        # Zero the gradients\n",
    "        optimizer.zero_grad()\n",
    "        \n",
    "        # Pass in the two images into the network and obtain two outputs\n",
    "        output = net(img)\n",
    "\n",
    "        # Pass the outputs of the networks and label into the loss function\n",
    "        loss = criterion(output,label)\n",
    "\n",
    "        # Calculate the backpropagation\n",
    "        loss.backward()\n",
    "\n",
    "        # Optimize\n",
    "        optimizer.step()\n",
    "\n",
    "        # Every 10 batches print out the loss\n",
    "        if i % 5000 == 0 :\n",
    "            print(f\"Epoch number {epoch}\\n Current loss {loss.item()}\\n\")\n",
    "            iteration_number += 5000\n",
    "\n",
    "            counter.append(iteration_number)\n",
    "            loss_history.append(loss.item())\n",
    "\n",
    "show_plot(counter, loss_history)"
   ]
  },
  {
   "cell_type": "code",
   "execution_count": 13,
   "id": "9c96bd52",
   "metadata": {},
   "outputs": [
    {
     "name": "stdout",
     "output_type": "stream",
     "text": [
      "torch.Size([3600, 16, 14, 14])\n",
      "torch.Size([200, 16, 14, 14])\n",
      "Test Accuracy of the model on the test images: 0.78\n"
     ]
    }
   ],
   "source": [
    "# Test the model\n",
    "net.eval()\n",
    "with torch.no_grad():\n",
    "    correct = 0\n",
    "    total = 0\n",
    "    for images, labels in unseen_loader:\n",
    "        test_output = net(images)\n",
    "        pred_y = torch.max(test_output, 1)[1].data.squeeze()\n",
    "        #print(test_output, pred_y)\n",
    "        accuracy = (pred_y == labels).sum().item() / float(labels.size(0))\n",
    "print('Test Accuracy of the model on the test images: %.2f' % accuracy)"
   ]
  },
  {
   "cell_type": "code",
   "execution_count": 14,
   "id": "f859324f",
   "metadata": {},
   "outputs": [
    {
     "name": "stdout",
     "output_type": "stream",
     "text": [
      "torch.Size([30, 16, 14, 14])\n",
      "Test Accuracy of the model on the test images: 0.80\n"
     ]
    }
   ],
   "source": [
    "# Test the model\n",
    "net.eval()\n",
    "with torch.no_grad():\n",
    "    correct = 0\n",
    "    total = 0\n",
    "    for images, labels in test_loader:\n",
    "        test_output = net(images)\n",
    "        pred_y = torch.max(test_output, 1)[1].data.squeeze()\n",
    "        #print(test_output, pred_y)\n",
    "        accuracy = (pred_y == labels).sum().item() / float(labels.size(0))\n",
    "print('Test Accuracy of the model on the test images: %.2f' % accuracy)"
   ]
  },
  {
   "cell_type": "code",
   "execution_count": 15,
   "id": "eab39935",
   "metadata": {},
   "outputs": [],
   "source": [
    "# Save the model\n",
    "torch.save(net.state_dict(), 'model.pt')"
   ]
  }
 ],
 "metadata": {
  "kernelspec": {
   "display_name": "Python 3 (ipykernel)",
   "language": "python",
   "name": "python3"
  },
  "language_info": {
   "codemirror_mode": {
    "name": "ipython",
    "version": 3
   },
   "file_extension": ".py",
   "mimetype": "text/x-python",
   "name": "python",
   "nbconvert_exporter": "python",
   "pygments_lexer": "ipython3",
   "version": "3.9.12"
  }
 },
 "nbformat": 4,
 "nbformat_minor": 5
}
