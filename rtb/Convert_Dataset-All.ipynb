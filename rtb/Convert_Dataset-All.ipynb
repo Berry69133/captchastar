{
 "cells": [
  {
   "cell_type": "code",
   "execution_count": 1,
   "id": "fd05c858",
   "metadata": {},
   "outputs": [],
   "source": [
    "import numpy as np\n",
    "import pandas as pd\n",
    "from sklearn import preprocessing"
   ]
  },
  {
   "cell_type": "code",
   "execution_count": 2,
   "id": "e08bdb0f",
   "metadata": {},
   "outputs": [],
   "source": [
    "path = \"/Users/denniscimorosi/Desktop/Tesi/IPinYou/make-ipinyou-data-master/all/\"\n",
    "test_name = \"test.log.txt\"\n",
    "train_name = \"train.log.txt\""
   ]
  },
  {
   "cell_type": "code",
   "execution_count": 3,
   "id": "4a636224",
   "metadata": {},
   "outputs": [
    {
     "name": "stderr",
     "output_type": "stream",
     "text": [
      "/var/folders/0w/0z7x_4h92p7cfg3jdw8y5jg80000gn/T/ipykernel_1127/996104040.py:1: DtypeWarning: Columns (15,18,19,21,24) have mixed types. Specify dtype option on import or set low_memory=False.\n",
      "  train_df = pd.read_csv(path + train_name, delimiter='\\t')\n",
      "/var/folders/0w/0z7x_4h92p7cfg3jdw8y5jg80000gn/T/ipykernel_1127/996104040.py:2: DtypeWarning: Columns (15,18,19,21,24) have mixed types. Specify dtype option on import or set low_memory=False.\n",
      "  test_df = pd.read_csv(path + test_name, delimiter='\\t')\n"
     ]
    }
   ],
   "source": [
    "train_df = pd.read_csv(path + train_name, delimiter='\\t')\n",
    "test_df = pd.read_csv(path + test_name, delimiter='\\t')"
   ]
  },
  {
   "cell_type": "code",
   "execution_count": 4,
   "id": "2133803b",
   "metadata": {},
   "outputs": [],
   "source": [
    "upsample = False\n",
    "encoding = 'one-hot'"
   ]
  },
  {
   "cell_type": "code",
   "execution_count": 5,
   "id": "72f7deb4",
   "metadata": {},
   "outputs": [],
   "source": [
    "train_df = train_df.drop(['bidid', 'logtype', 'ipinyouid', 'IP', 'adexchange',\n",
    "                          'urlid', 'url', 'slotid', 'slotwidth', 'slotheight', 'slotvisibility',\n",
    "                          'slotformat', 'creative', 'keypage','usertag'], axis=1)\n",
    "\n",
    "test_df = test_df.drop(['bidid', 'logtype', 'ipinyouid', 'IP', 'adexchange',\n",
    "                          'urlid', 'url', 'slotid', 'slotwidth', 'slotheight', 'slotvisibility',\n",
    "                          'slotformat', 'creative', 'keypage', 'usertag', 'nclick', 'nconversation'], axis=1)"
   ]
  },
  {
   "cell_type": "code",
   "execution_count": 6,
   "id": "1c2e133f",
   "metadata": {},
   "outputs": [
    {
     "data": {
      "text/plain": [
       "3008"
      ]
     },
     "execution_count": 6,
     "metadata": {},
     "output_type": "execute_result"
    }
   ],
   "source": [
    "test_df['click'].sum()"
   ]
  },
  {
   "cell_type": "code",
   "execution_count": 7,
   "id": "294d9276",
   "metadata": {},
   "outputs": [
    {
     "data": {
      "text/plain": [
       "15395258"
      ]
     },
     "execution_count": 7,
     "metadata": {},
     "output_type": "execute_result"
    }
   ],
   "source": [
    "train_df.shape[0]"
   ]
  },
  {
   "cell_type": "code",
   "execution_count": 8,
   "id": "057e4889",
   "metadata": {},
   "outputs": [],
   "source": [
    "# split useragent columns into os and browser \n",
    "def split_os_browser(df):\n",
    "    def extract_os(x):\n",
    "        return x.split(\"_\")[0]\n",
    "\n",
    "    def extract_browser(x):\n",
    "        return x.split(\"_\")[1]\n",
    "\n",
    "    vfun = np.vectorize(extract_os)\n",
    "    df['os'] = vfun(df['useragent'])\n",
    "\n",
    "    vfun = np.vectorize(extract_browser)\n",
    "    df['browser'] = vfun(df['useragent'])\n",
    "\n",
    "    df.drop(['useragent'], inplace=True, axis=1)\n",
    "\n",
    "    return df\n",
    "\n",
    "train_df = split_os_browser(train_df)\n",
    "test_df = split_os_browser(test_df)"
   ]
  },
  {
   "cell_type": "code",
   "execution_count": 9,
   "id": "610359d7",
   "metadata": {},
   "outputs": [],
   "source": [
    "#df = train_df.groupby('city', as_index=False).count().sort_values(['click'])"
   ]
  },
  {
   "cell_type": "code",
   "execution_count": 10,
   "id": "2715b134",
   "metadata": {},
   "outputs": [],
   "source": [
    "#df[df['click'] > 170000].shape[0]"
   ]
  },
  {
   "cell_type": "code",
   "execution_count": 11,
   "id": "865caeb9",
   "metadata": {},
   "outputs": [],
   "source": [
    "# nan domains handling\n",
    "train_df['domain'] = train_df['domain'].fillna('unknown')\n",
    "test_df['domain'] = test_df['domain'].fillna('unknown')\n",
    "\n",
    "def aggregate(x):\n",
    "    return 'other' if x not in to_keep else str(x)\n",
    "\n",
    "# aggregate domains which occur less than 100000 times (tot 18)\n",
    "domains = train_df.groupby('domain', as_index=False).count()\n",
    "to_keep = domains[domains['click'] > 110000]['domain']\n",
    "to_keep = np.array(to_keep)\n",
    "\n",
    "vfun = np.vectorize(aggregate)\n",
    "train_df['domain'] = vfun(train_df['domain'])\n",
    "test_df['domain'] = vfun(test_df['domain'])\n",
    "\n",
    "# aggregate cities which occur less than 120000 times (tot 16)\n",
    "cities = train_df.groupby('city', as_index=False).count()\n",
    "to_keep = cities[cities['click'] > 170000]['city']\n",
    "to_keep = np.array(to_keep)\n",
    "\n",
    "vfun = np.vectorize(aggregate)\n",
    "train_df['city'] = vfun(train_df['city'])\n",
    "test_df['city'] = vfun(test_df['city']) \n",
    "\n",
    "# aggregate regions which occur less than 500000 times (tot 10)\n",
    "regions = train_df.groupby('region', as_index=False).count()\n",
    "to_keep = regions[regions['click'] > 500000]['region']\n",
    "to_keep = np.array(to_keep)\n",
    "\n",
    "vfun = np.vectorize(aggregate)\n",
    "train_df['region'] = vfun(train_df['region'])\n",
    "test_df['region'] = vfun(test_df['region'])"
   ]
  },
  {
   "cell_type": "code",
   "execution_count": 12,
   "id": "5ad8db0c",
   "metadata": {},
   "outputs": [],
   "source": [
    "# label encoding\n",
    "def label_enc(test_df, train_df, feature_name):\n",
    "    # extract all feature values from both train and test df\n",
    "    test_feats = test_df[feature_name].unique()\n",
    "    train_feats = train_df[feature_name].unique()\n",
    "    all_feats = np.unique(np.concatenate([train_feats, test_feats]))\n",
    "    # fit label encoder\n",
    "    encoder = preprocessing.LabelEncoder().fit(all_feats)\n",
    "    # transform feature\n",
    "    test_df[feature_name] = encoder.transform(test_df[feature_name])\n",
    "    train_df[feature_name] = encoder.transform(train_df[feature_name])\n",
    "    return test_df, train_df\n",
    "\n",
    "if encoding == 'label':\n",
    "    test_df, train_df = label_enc(test_df, train_df, 'os')\n",
    "    test_df, train_df = label_enc(test_df, train_df, 'browser')\n",
    "    test_df, train_df = label_enc(test_df, train_df, 'domain')"
   ]
  },
  {
   "cell_type": "code",
   "execution_count": 26,
   "id": "0f380be3",
   "metadata": {},
   "outputs": [],
   "source": [
    "def one_hot_enc(test_df, train_df, feature_name):\n",
    "    test_cols = []\n",
    "    train_cols = []\n",
    "\n",
    "    # extract all feature values from both train and test df\n",
    "    test_feats = test_df[feature_name].unique()\n",
    "    train_feats = train_df[feature_name].unique()\n",
    "    all_feats = np.unique(np.concatenate([train_feats, test_feats]))\n",
    "\n",
    "    # fit one-hot encoder\n",
    "    encoder = preprocessing.LabelBinarizer().fit(all_feats.reshape(-1, 1))\n",
    "\n",
    "    \n",
    "    return encoder, test_df, train_df\n",
    "    \n",
    "    '''\n",
    "    transformed = encoder.transform(test_df[feature_name])\n",
    "    test_ohe = pd.DataFrame(transformed)\n",
    "\n",
    "    transformed = encoder.transform(train_df[feature_name])\n",
    "    train_ohe = pd.DataFrame(transformed)\n",
    "\n",
    "    for col in test_ohe.columns:\n",
    "        test_cols.append(feature_name + '_' + str(col))\n",
    "    test_ohe.columns = test_cols\n",
    "    test_df = test_df.join(test_ohe).drop([feature_name], axis=1)\n",
    "\n",
    "    for col in train_ohe.columns:\n",
    "        train_cols.append(feature_name + '_' + str(col))\n",
    "    train_ohe.columns = train_cols\n",
    "    train_df = train_df.join(train_ohe).drop([feature_name], axis=1)\n",
    "\n",
    "    return test_df, train_df\n",
    "    '''\n",
    "    \n",
    "if encoding == 'one-hot':\n",
    "    encoder, test_df, train_df = one_hot_enc(test_df, train_df, 'advertiser')\n",
    "    '''\n",
    "    test_df, train_df = one_hot_enc(test_df, train_df, 'os')\n",
    "    test_df, train_df = one_hot_enc(test_df, train_df, 'browser')\n",
    "    test_df, train_df = one_hot_enc(test_df, train_df, 'domain')\n",
    "    test_df, train_df = one_hot_enc(test_df, train_df, 'city')\n",
    "    test_df, train_df = one_hot_enc(test_df, train_df, 'region')\n",
    "    '''\n"
   ]
  },
  {
   "cell_type": "code",
   "execution_count": 32,
   "id": "91c15687",
   "metadata": {},
   "outputs": [
    {
     "data": {
      "text/plain": [
       "array([1458])"
      ]
     },
     "execution_count": 32,
     "metadata": {},
     "output_type": "execute_result"
    }
   ],
   "source": [
    "encoder.inverse_transform(np.array([[1,0,0,0,0,0,0,0,0]]))"
   ]
  },
  {
   "cell_type": "code",
   "execution_count": null,
   "id": "d52467f4",
   "metadata": {},
   "outputs": [],
   "source": [
    "train_df.to_csv(path + 'train.final.csv', index = False)\n",
    "test_df.to_csv(path + 'test.final.csv', index = False)"
   ]
  },
  {
   "cell_type": "code",
   "execution_count": null,
   "id": "f32a8446",
   "metadata": {},
   "outputs": [],
   "source": [
    "train_df.columns"
   ]
  }
 ],
 "metadata": {
  "kernelspec": {
   "display_name": "Python 3 (ipykernel)",
   "language": "python",
   "name": "python3"
  },
  "language_info": {
   "codemirror_mode": {
    "name": "ipython",
    "version": 3
   },
   "file_extension": ".py",
   "mimetype": "text/x-python",
   "name": "python",
   "nbconvert_exporter": "python",
   "pygments_lexer": "ipython3",
   "version": "3.9.12"
  }
 },
 "nbformat": 4,
 "nbformat_minor": 5
}
