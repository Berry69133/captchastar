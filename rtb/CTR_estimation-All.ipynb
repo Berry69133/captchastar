{
 "cells": [
  {
   "cell_type": "code",
   "execution_count": 1,
   "id": "7ceeee4b",
   "metadata": {},
   "outputs": [],
   "source": [
    "import random\n",
    "import numpy as np\n",
    "import pandas as pd\n",
    "import matplotlib.pyplot as plt\n",
    "import joblib\n",
    "import math\n",
    "\n",
    "import sklearn\n",
    "from sklearn.linear_model import LogisticRegression\n",
    "from sklearn.metrics import PrecisionRecallDisplay, RocCurveDisplay, roc_auc_score, roc_curve, mean_squared_error\n",
    "from sklearn.utils import resample\n",
    "from sklearn.neural_network import MLPClassifier\n",
    "from sklearn import preprocessing"
   ]
  },
  {
   "cell_type": "code",
   "execution_count": 2,
   "id": "9f598a6b",
   "metadata": {},
   "outputs": [],
   "source": [
    "advertiser_id = 'all'\n",
    "path = \"/Users/denniscimorosi/Desktop/Tesi/IPinYou/make-ipinyou-data-master/\" + advertiser_id + \"/\"\n",
    "train_name = 'train.final.csv'\n",
    "test_name = 'test.final.csv'"
   ]
  },
  {
   "cell_type": "code",
   "execution_count": 3,
   "id": "8a637425",
   "metadata": {},
   "outputs": [],
   "source": [
    "train_df = pd.read_csv(path + train_name, delimiter=',', nrows= 7000000)\n",
    "test_df = pd.read_csv(path + test_name, delimiter=',', nrows= 7000000)"
   ]
  },
  {
   "cell_type": "code",
   "execution_count": 4,
   "id": "aded57ea",
   "metadata": {},
   "outputs": [
    {
     "data": {
      "text/plain": [
       "(7000000, 79)"
      ]
     },
     "execution_count": 4,
     "metadata": {},
     "output_type": "execute_result"
    }
   ],
   "source": [
    "train_df.shape"
   ]
  },
  {
   "cell_type": "code",
   "execution_count": 5,
   "id": "d3b12ac3",
   "metadata": {},
   "outputs": [],
   "source": [
    "train_df = train_df.drop(['timestamp', 'bidprice', 'slotprice', 'payprice'], axis=1)\n",
    "test_df = test_df.drop(['timestamp', 'bidprice', 'slotprice', 'payprice'], axis=1)"
   ]
  },
  {
   "cell_type": "code",
   "execution_count": 6,
   "id": "af17046f",
   "metadata": {},
   "outputs": [],
   "source": [
    "X_train = train_df.drop('click', axis=1)\n",
    "y_train = train_df.click\n",
    "\n",
    "X_test = test_df.drop('click', axis=1)\n",
    "y_test = test_df.click"
   ]
  },
  {
   "cell_type": "code",
   "execution_count": null,
   "id": "69caf64d",
   "metadata": {
    "scrolled": true
   },
   "outputs": [],
   "source": [
    "train 2000\n",
    "clf = LogisticRegression(max_iter=2000, random_state=42)\n",
    "clf.fit(X_train, y_train)"
   ]
  },
  {
   "cell_type": "code",
   "execution_count": null,
   "id": "860de260",
   "metadata": {},
   "outputs": [],
   "source": [
    "# predict\n",
    "y_pred = clf.predict_proba(X_test)[:, 1]"
   ]
  },
  {
   "cell_type": "code",
   "execution_count": null,
   "id": "19a88413",
   "metadata": {
    "scrolled": true
   },
   "outputs": [],
   "source": [
    "# auc\n",
    "auc = roc_auc_score(y_test, y_pred)\n",
    "false_positive_rate, true_positive_rate, thresolds = roc_curve(y_test, y_pred, pos_label=1)\n",
    "\n",
    "plt.figure(figsize=(10, 8), dpi=100)\n",
    "plt.axis('scaled')\n",
    "plt.xlim([0, 1])\n",
    "plt.ylim([0, 1])\n",
    "plt.title(\"AUC & ROC Curve\")\n",
    "plt.plot(false_positive_rate, true_positive_rate, 'g')\n",
    "plt.fill_between(false_positive_rate, true_positive_rate, facecolor='lightgreen', alpha=0.7)\n",
    "plt.text(0.95, 0.05, 'AUC = %0.4f' % auc, ha='right', fontsize=12, weight='bold', color='blue')\n",
    "plt.xlabel(\"False Positive Rate\")\n",
    "plt.ylabel(\"True Positive Rate\")\n",
    "plt.show()"
   ]
  },
  {
   "cell_type": "code",
   "execution_count": null,
   "id": "2b620053",
   "metadata": {},
   "outputs": [],
   "source": [
    "# rmse\n",
    "math.sqrt(mean_squared_error(y_test, y_pred))"
   ]
  },
  {
   "cell_type": "code",
   "execution_count": null,
   "id": "951483f7",
   "metadata": {},
   "outputs": [],
   "source": [
    "# export model\n",
    "if True:\n",
    "    file_name = path + advertiser_id + '.model-MLP.joblib' #if upsample else 'model.joblib'\n",
    "    joblib.dump(clf, file_name)"
   ]
  }
 ],
 "metadata": {
  "kernelspec": {
   "display_name": "Python 3 (ipykernel)",
   "language": "python",
   "name": "python3"
  },
  "language_info": {
   "codemirror_mode": {
    "name": "ipython",
    "version": 3
   },
   "file_extension": ".py",
   "mimetype": "text/x-python",
   "name": "python",
   "nbconvert_exporter": "python",
   "pygments_lexer": "ipython3",
   "version": "3.9.12"
  }
 },
 "nbformat": 4,
 "nbformat_minor": 5
}
