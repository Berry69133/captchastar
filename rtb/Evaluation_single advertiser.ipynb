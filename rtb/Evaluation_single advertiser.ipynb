{
 "cells": [
  {
   "cell_type": "code",
   "execution_count": 1,
   "id": "bf01ef9c",
   "metadata": {},
   "outputs": [],
   "source": [
    "import random\n",
    "import numpy as np\n",
    "import pandas as pd\n",
    "import joblib"
   ]
  },
  {
   "cell_type": "code",
   "execution_count": 2,
   "id": "e02b5d3d",
   "metadata": {},
   "outputs": [],
   "source": [
    "advertiser_id = '1458'\n",
    "path = \"/Users/denniscimorosi/Desktop/Tesi/IPinYou/make-ipinyou-data-master/\" + advertiser_id + \"/\"\n",
    "train_name = advertiser_id + '.train.final.csv'\n",
    "test_name = advertiser_id + '.test.final.csv'\n",
    "model = advertiser_id + '.model.joblib'"
   ]
  },
  {
   "cell_type": "code",
   "execution_count": 3,
   "id": "16d6a431",
   "metadata": {},
   "outputs": [],
   "source": [
    "train_df = pd.read_csv(path + train_name, delimiter=',')\n",
    "test_df = pd.read_csv(path + test_name, delimiter=',')"
   ]
  },
  {
   "cell_type": "code",
   "execution_count": 4,
   "id": "32d6e12b",
   "metadata": {},
   "outputs": [],
   "source": [
    "# alcuni payprice sono a 0"
   ]
  },
  {
   "cell_type": "code",
   "execution_count": 5,
   "id": "f263ad3e",
   "metadata": {},
   "outputs": [],
   "source": [
    "def fen_to_euro(df):\n",
    "    for col in df.columns:\n",
    "        if 'price' in col:\n",
    "            euro = df[col] * 0.0014 # convert \n",
    "            df[col] = round(euro, 2)\n",
    "    return df\n",
    "\n",
    "#train_df = fen_to_euro(train_df)\n",
    "#test_df = fen_to_euro(test_df)"
   ]
  },
  {
   "cell_type": "code",
   "execution_count": 6,
   "id": "bba0244e",
   "metadata": {},
   "outputs": [],
   "source": [
    "# load model\n",
    "CTR_model = joblib.load(path + model)"
   ]
  },
  {
   "cell_type": "code",
   "execution_count": 7,
   "id": "b577e54e",
   "metadata": {},
   "outputs": [],
   "source": [
    "class BudgetExtinguished(Exception):\n",
    "    pass\n",
    "\n",
    "class EvaluationFramework:\n",
    "    def __init__(self, train_df, model):\n",
    "        # 0: initialise the bidding engine\n",
    "        self.budget = 0\n",
    "        self.clicks = 0 # KPI\n",
    "        self.cost = 0 # amount spent so far\n",
    "        self.wins = 0\n",
    "        self.bids = [] \n",
    "        self.model = model\n",
    "        self.budget_done = False\n",
    "        # max eCPC = campaign cost/clicks obtained\n",
    "        train_cost = train_df['payprice'].sum()\n",
    "        train_clicks = train_df['click'].sum()\n",
    "        #quanto mi è costato ogni click in media rispetto ai miei dati storici\n",
    "        self.max_eCPC = round(train_cost /train_clicks, 2) \n",
    "\n",
    "        self.bids_count = 0 # keep track of the amount of bids elaborated \n",
    "    \n",
    "    def _show_stats(self, stats):\n",
    "        for key in stats:\n",
    "            stat = stats[key]\n",
    "            is_float = type(stat) is float or type(stat) is np.float64\n",
    "            if is_float: stat = round(stat, 4)\n",
    "            print(key, \":\", stat)\n",
    "\n",
    "    def _predict_CTR(self, sample):\n",
    "        # model prediction\n",
    "        probs = self.model.predict_proba(sample)\n",
    "        pCTR = probs[0,1] # pCTR mean: 0.0008\n",
    "        return pCTR\n",
    "\n",
    "    def _bidding_function(self, sample, max_eCPC):\n",
    "        sample = pd.DataFrame(sample, index=[0]) # from dict back to pandas record (see evaluate method)\n",
    "        pCTR = self._predict_CTR(sample)\n",
    "        return pCTR * max_eCPC\n",
    "\n",
    "    def _update_stats_on_win(self, price, click_feedback):\n",
    "        self.wins += 1\n",
    "        self.cost += price\n",
    "        self.clicks += click_feedback\n",
    "\n",
    "    def _record_evaluation(self, bid_request, pay_price, floor_price, click_feedback, verbose):\n",
    "        # 1: bid request \n",
    "        bid = self._bidding_function(bid_request, self.max_eCPC) \n",
    "        self.bids.append(bid)\n",
    "\n",
    "        # 2: bid price for this bid request\n",
    "        if  self.cost > self.budget: \n",
    "            self.budget_done = True\n",
    "            raise BudgetExtinguished\n",
    "\n",
    "        else:\n",
    "          # 3: auction winning checking\n",
    "          win = (bid > floor_price) and (bid > pay_price)\n",
    "          # 4: win notice, the charged price & user feedback if win\n",
    "          if(win): self._update_stats_on_win(pay_price, click_feedback) \n",
    "\n",
    "        # keep track of the amount of bids elaborated during eval\n",
    "        self.bids_count += 1\n",
    "        if verbose:\n",
    "            if self.bids_count % 100000 == 0:\n",
    "                print(self.bids_count)\n",
    "      \n",
    "    def evaluate(self, test_df, verbose=False, budget_fraction=1):\n",
    "        # budget initialization: amount spendt in real scenario * budget_fraction\n",
    "        self.budget = (test_df['payprice'].sum()) * budget_fraction\n",
    "        self.budget_done = False\n",
    "        n_records = test_df.shape[0]\n",
    "\n",
    "        # sort the bid requests in cronological order\n",
    "        test_df.sort_values('timestamp', inplace=True)\n",
    "\n",
    "        # extract bid request data\n",
    "        domain_cols = [x for x in test_df.columns if 'domain' in x] # select all the domain columns (more than one if one-one was used)\n",
    "        os_cols = [x for x in test_df.columns if 'os' in x] # same as domain\n",
    "        browser_cols = [x for x in test_df.columns if 'browser' in x] # same as domain\n",
    "        city_cols = [x for x in test_df.columns if 'city' in x] # same as city\n",
    "        region_cols = [x for x in test_df.columns if 'region' in x] # same as region\n",
    "        other_cols = ['weekday', 'hour']\n",
    "        # the order of the columns must be: click weekday hour useragent region city domain\n",
    "        bid_request = test_df[other_cols + os_cols + browser_cols + domain_cols + city_cols + region_cols]\n",
    "        bid_request = bid_request.to_dict('records') # to work with more columns during vectorization we need each record in dict format\n",
    "\n",
    "        # extract auction winning price and feedback (i.e. click)\n",
    "        pay_price = test_df['payprice'] # i.e. market price, auction winning price\n",
    "        floor_price = test_df['slotprice']\n",
    "        click_feedback = test_df['click']\n",
    "\n",
    "        # NOTE: record evaluation modifies the stats duiring execution\n",
    "        vfun = np.vectorize(self._record_evaluation)\n",
    "        try: \n",
    "            vfun(bid_request, pay_price, floor_price, click_feedback, verbose)\n",
    "        except BudgetExtinguished:\n",
    "            print('budget extinguished')\n",
    "\n",
    "        # output\n",
    "        stats = {\n",
    "            'click': self.clicks,\n",
    "            'wins': self.wins,\n",
    "            'win ratio ': self.wins/n_records,\n",
    "            'CTR': 0 if self.wins < 1 else self.clicks/self.wins,\n",
    "            'bid mean': sum(self.bids)/n_records,\n",
    "            'budget extinguished': self.budget_done,\n",
    "            'CPC': 0 if self.clicks < 1 else self.cost/self.clicks\n",
    "        }\n",
    "        if verbose:\n",
    "            self._show_stats(stats)\n",
    "\n",
    "        return stats"
   ]
  },
  {
   "cell_type": "code",
   "execution_count": 8,
   "id": "ed6aa88c",
   "metadata": {},
   "outputs": [
    {
     "name": "stdout",
     "output_type": "stream",
     "text": [
      "100000\n",
      "200000\n",
      "300000\n",
      "400000\n",
      "500000\n",
      "600000\n",
      "click : 257\n",
      "wins : 281749\n",
      "win ratio  : 0.4584\n",
      "CTR : 0.0009\n",
      "bid mean : 67.0075\n",
      "budget extinguished : False\n",
      "CPC : 50312.8249\n"
     ]
    },
    {
     "data": {
      "text/plain": [
       "{'click': 257,\n",
       " 'wins': 281749,\n",
       " 'win ratio ': 0.45839827670921746,\n",
       " 'CTR': 0.000912159404292473,\n",
       " 'bid mean': 67.00752644764425,\n",
       " 'budget extinguished': False,\n",
       " 'CPC': 50312.82490272373}"
      ]
     },
     "execution_count": 8,
     "metadata": {},
     "output_type": "execute_result"
    }
   ],
   "source": [
    "evaluation= EvaluationFramework(train_df, CTR_model)\n",
    "evaluation.evaluate(test_df, verbose=True, budget_fraction = 1/2)"
   ]
  }
 ],
 "metadata": {
  "kernelspec": {
   "display_name": "Python 3 (ipykernel)",
   "language": "python",
   "name": "python3"
  },
  "language_info": {
   "codemirror_mode": {
    "name": "ipython",
    "version": 3
   },
   "file_extension": ".py",
   "mimetype": "text/x-python",
   "name": "python",
   "nbconvert_exporter": "python",
   "pygments_lexer": "ipython3",
   "version": "3.9.12"
  }
 },
 "nbformat": 4,
 "nbformat_minor": 5
}
